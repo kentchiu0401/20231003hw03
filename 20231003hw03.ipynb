{
 "cells": [
  {
   "cell_type": "code",
   "execution_count": 8,
   "id": "47e111fe",
   "metadata": {},
   "outputs": [
    {
     "name": "stdout",
     "output_type": "stream",
     "text": [
      "請輸入一個數字（按Enter即可離開）：52\n",
      "52的因數有：1,2,4,13,26,52\n",
      "請輸入一個數字（按Enter即可離開）：\n"
     ]
    }
   ],
   "source": [
    "while True:\n",
    "    try:\n",
    "        num = input(\"請輸入一個數字（按Enter即可離開）：\")\n",
    "        if num == \"\":\n",
    "            break\n",
    "        num = int(num)\n",
    "        if num <= 0:\n",
    "            raise ValueError(\"不對唷！請輸入半形正整數喔！\")\n",
    "        \n",
    "        factors = [str(i) for i in range(1, num + 1) if num % i == 0]\n",
    "        factors_str = \",\".join(factors)\n",
    "        print(f\"{num}的因數有：{factors_str}\")\n",
    "        \n",
    "    except ValueError:\n",
    "        print(\"不對唷！請輸入半形正整數喔！\")\n",
    "        continue"
   ]
  },
  {
   "cell_type": "code",
   "execution_count": null,
   "id": "e65f8475",
   "metadata": {},
   "outputs": [],
   "source": []
  }
 ],
 "metadata": {
  "kernelspec": {
   "display_name": "Python 3 (ipykernel)",
   "language": "python",
   "name": "python3"
  },
  "language_info": {
   "codemirror_mode": {
    "name": "ipython",
    "version": 3
   },
   "file_extension": ".py",
   "mimetype": "text/x-python",
   "name": "python",
   "nbconvert_exporter": "python",
   "pygments_lexer": "ipython3",
   "version": "3.11.4"
  }
 },
 "nbformat": 4,
 "nbformat_minor": 5
}
